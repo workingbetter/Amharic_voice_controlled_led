{
  "nbformat": 4,
  "nbformat_minor": 0,
  "metadata": {
    "colab": {
      "provenance": [],
      "authorship_tag": "ABX9TyNZaeqwpZ8tnhSE5puMeArA",
      "include_colab_link": true
    },
    "kernelspec": {
      "name": "python3",
      "display_name": "Python 3"
    },
    "language_info": {
      "name": "python"
    }
  },
  "cells": [
    {
      "cell_type": "markdown",
      "metadata": {
        "id": "view-in-github",
        "colab_type": "text"
      },
      "source": [
        "<a href=\"https://colab.research.google.com/github/workingbetter/Amharic_voice_controlled_led/blob/main/Amharic_voice_controlled_Led.ipynb\" target=\"_parent\"><img src=\"https://colab.research.google.com/assets/colab-badge.svg\" alt=\"Open In Colab\"/></a>"
      ]
    },
    {
      "cell_type": "code",
      "execution_count": null,
      "metadata": {
        "id": "B-g_zE4YOsyR"
      },
      "outputs": [],
      "source": [
        "import speech_recognition as sr\n",
        "from gpiozero import LED\n",
        "from time import sleep\n",
        "\n",
        "# Setup for the LED\n",
        "led = LED(17)\n",
        "\n",
        "# Initialize recognizer\n",
        "recognizer = sr.Recognizer()\n",
        "\n",
        "def listen_for_command():\n",
        "    with sr.Microphone() as source:\n",
        "        print(\"Listening for command...\")\n",
        "        audio = recognizer.listen(source)\n",
        "        try:\n",
        "            # Recognize speech using Google API in Amharic (replace with your language code)\n",
        "            command = recognizer.recognize_google(audio, language=\"am-ET\")  # Use \"am-ET\" for Amharic\n",
        "            print(f\"Recognized Command: {command}\")\n",
        "            return command.lower()\n",
        "        except sr.UnknownValueError:\n",
        "            print(\"Sorry, I didn't catch that.\")\n",
        "            return None\n",
        "        except sr.RequestError:\n",
        "            print(\"Could not request results; check your network connection.\")\n",
        "            return None\n",
        "\n",
        "def control_led(command):\n",
        "    # Replace \"on_word\" and \"off_word\" with your actual spoken words in your language\n",
        "    if \"አብሪው\" in command:  # Word for \"turn on\" in Amharic\n",
        "        led.on()\n",
        "        print(\"LED turned ON\")\n",
        "    elif \"አጥፊው\" in command:  # Word for \"turn off\" in Amharic\n",
        "        led.off()\n",
        "        print(\"LED turned OFF\")\n",
        "    else:\n",
        "        print(\"Unrecognized command.\")\n",
        "\n",
        "try:\n",
        "    while True:\n",
        "        command = listen_for_command()\n",
        "        if command:\n",
        "            control_led(command)\n",
        "        sleep(1)\n",
        "\n",
        "except KeyboardInterrupt:\n",
        "    print(\"Ending program\")\n"
      ]
    }
  ]
}